{
 "cells": [
  {
   "cell_type": "code",
   "execution_count": 1,
   "metadata": {
    "collapsed": true,
    "deletable": true,
    "editable": true
   },
   "outputs": [],
   "source": [
    "import numpy as np"
   ]
  },
  {
   "cell_type": "code",
   "execution_count": 2,
   "metadata": {
    "collapsed": true,
    "deletable": true,
    "editable": true
   },
   "outputs": [],
   "source": [
    "class Node(object):\n",
    "    \"\"\"\n",
    "    Base object for all inputs and outputs.\n",
    "    \"\"\"\n",
    "    def __init__(self, value, grad):\n",
    "        self.value = value\n",
    "        self.gradient = grad"
   ]
  },
  {
   "cell_type": "code",
   "execution_count": 3,
   "metadata": {
    "collapsed": true,
    "deletable": true,
    "editable": true
   },
   "outputs": [],
   "source": [
    "class MultiplyNode(object):\n",
    "    \"\"\"\n",
    "    Multiplies two inputs\n",
    "    \"\"\"\n",
    "    def forward(self, x1, x2):\n",
    "        self.x1 = x1\n",
    "        self.x2 = x2\n",
    "        self.output = Node(self.x1.value * self.x2.value, 0)\n",
    "        return self.output\n",
    "    \n",
    "    def backward(self):\n",
    "        self.x1.gradient = self.x2.value * self.output.gradient\n",
    "        self.x2.gradient = self.x1.value * self.output.gradient\n",
    "        \n",
    "class MultiplyNode2(object):\n",
    "    \"\"\"\n",
    "    Multiplies two inputs\n",
    "    \"\"\"\n",
    "    def forward(self, x1, x2):\n",
    "        self.x1 = x1\n",
    "        self.x2 = x2\n",
    "        self.output = Node(self.x1 * self.x2.value, 0)\n",
    "        return self.output\n",
    "    \n",
    "    def backward(self):\n",
    "        self.x1.gradient = self.x2.value * self.output.gradient\n",
    "        self.x2.gradient = self.x1 * self.output.gradient"
   ]
  },
  {
   "cell_type": "code",
   "execution_count": 4,
   "metadata": {
    "collapsed": true,
    "deletable": true,
    "editable": true
   },
   "outputs": [],
   "source": [
    "class AddNode(object):    \n",
    "    \"\"\"\n",
    "    Adds two inputs x1 and x2.\n",
    "    \"\"\"\n",
    "    def forward(self, x1, x2):\n",
    "        self.x1 = x1\n",
    "        self.x2 = x2\n",
    "        self.output = Node(self.x1.value + self.x2.value, 0)\n",
    "        return self.output\n",
    "    \n",
    "    def backward(self):\n",
    "        self.x1.gradient = 1 * self.output.gradient\n",
    "        self.x2.gradient = 1 * self.output.gradient\n",
    "        \n",
    "class AddNode2(object):    \n",
    "    \"\"\"\n",
    "    Adds two inputs x1 and x2.\n",
    "    \"\"\"\n",
    "    def forward(self, x1, x2):\n",
    "        self.x1 = x1\n",
    "        self.x2 = x2\n",
    "        self.output = Node(self.x1 + self.x2.value, 0)\n",
    "        return self.output\n",
    "    \n",
    "    def backward(self):\n",
    "        self.x1.gradient = 1 * self.output.gradient\n",
    "        self.x2.gradient = 1 * self.output.gradient"
   ]
  },
  {
   "cell_type": "code",
   "execution_count": 5,
   "metadata": {
    "collapsed": true,
    "deletable": true,
    "editable": true
   },
   "outputs": [],
   "source": [
    "class SigmoidNode(object):\n",
    "    \"\"\"\n",
    "    Adds a sigmoid non-linearity to a single input\n",
    "    \"\"\"\n",
    "    def forward(self, x):\n",
    "        self.x = x\n",
    "        self.output = Node(1/(1 + np.exp(-1 * self.x.value)), 0.0)\n",
    "        return self.output\n",
    "        \n",
    "    def backward(self):\n",
    "        s = 1/(1 + np.exp(-1 * self.x.value))\n",
    "        self.x.gradient = (s * (1 - s)) * self.output.gradient"
   ]
  },
  {
   "cell_type": "code",
   "execution_count": 6,
   "metadata": {
    "collapsed": true,
    "deletable": true,
    "editable": true
   },
   "outputs": [],
   "source": [
    "def forward_nn():\n",
    "    # w1 * x1\n",
    "    w1x1 = w1_mul_x1.forward(w1, x1)\n",
    "    # w2 * x2\n",
    "    w2x2 = w2_mul_x2.forward(w2, x2)\n",
    "    # w1*x1 + w2*x2\n",
    "    w1x1_w2x2 = w1x1_add_w2x2.forward(w1x1, w2x2)\n",
    "    # (w1*x1 + w2*x2) * w3\n",
    "    w1x1_w2x2_x3 = w1x1w2x2_mul_x3.forward(w1x1_w2x2, x3)\n",
    "    # sigmoid((w1*x1 + w2*x2)*w3 )\n",
    "    output = sigmoid_out.forward(w1x1_w2x2_x3)\n",
    "    return output\n",
    "\n",
    "def backward_nn():\n",
    "    sigmoid_out.backward()\n",
    "    w1x1w2x2_mul_x3.backward()\n",
    "    w1x1_add_w2x2.backward()\n",
    "    w2_mul_x2.backward()\n",
    "    w1_mul_x1.backward()"
   ]
  },
  {
   "cell_type": "code",
   "execution_count": 7,
   "metadata": {
    "collapsed": true,
    "deletable": true,
    "editable": true
   },
   "outputs": [],
   "source": [
    "# Initialize Weights and Bias\n",
    "w1 = Node(0.1, 0.0)\n",
    "w2 = Node(0.4, 0.0)\n",
    "\n",
    "\n",
    "# Input/Target Output\n",
    "alpha = 0.001\n",
    "x1 = Node(1.0, 0.0)\n",
    "x2 = Node(1.0, 0.0)\n",
    "x3 = Node(1.0, 0.0)\n",
    "y = 0.975\n",
    "\n",
    "# Create Nodes\n",
    "w1_mul_x1 = MultiplyNode()\n",
    "w2_mul_x2 = MultiplyNode()\n",
    "w1x1_add_w2x2 = AddNode()\n",
    "w1x1w2x2_mul_x3 = MultiplyNode()\n",
    "sigmoid_out = SigmoidNode()"
   ]
  },
  {
   "cell_type": "code",
   "execution_count": 8,
   "metadata": {
    "collapsed": false,
    "deletable": true,
    "editable": true
   },
   "outputs": [
    {
     "name": "stdout",
     "output_type": "stream",
     "text": [
      "0.951813313577\n"
     ]
    }
   ],
   "source": [
    "for i in range(100000):\n",
    "    forward_output = forward_nn()\n",
    "    forward_output.gradient = -2 * (y - forward_output.value)\n",
    "    backward_nn()\n",
    "    w1.value -= alpha * w1.gradient\n",
    "    w2.value -= alpha * w2.gradient\n",
    "        \n",
    "print forward_output.value"
   ]
  },
  {
   "cell_type": "markdown",
   "metadata": {
    "deletable": true,
    "editable": true
   },
   "source": [
    "---\n",
    "# Putting it all together into a two Perceptron"
   ]
  },
  {
   "cell_type": "code",
   "execution_count": 9,
   "metadata": {
    "collapsed": true,
    "deletable": true,
    "editable": true
   },
   "outputs": [],
   "source": [
    "class Perceptron(object):\n",
    "    def __init__(self, x1, x2, alpha=0.001):\n",
    "        ### Hyper parameters\n",
    "        self.alpha = alpha\n",
    "        ### Initializing weights/bias to a random float between -1 and 1.\n",
    "        self.w1 = Node(np.random.uniform(-1, 1), 0.0)\n",
    "        self.w2 = Node(np.random.uniform(-1, 1), 0.0)\n",
    "        self.b = Node(np.random.uniform(-1, 1), 0.0)\n",
    "        ### Input and Output variables\n",
    "        self.x1 = Node(x1, 0.0)\n",
    "        self.x2 = Node(x2, 0.0)\n",
    "        ### Initialize operators nodes required \n",
    "        ### for processing the inputs within a perceptron\n",
    "        self.initialize_operators()\n",
    "    \n",
    "    def initialize_operators(self):\n",
    "        self.w1_mul_x1 = MultiplyNode()\n",
    "        self.w2_mul_x2 = MultiplyNode()\n",
    "        self.w1x1_add_w2x2 = AddNode()\n",
    "        self.w1x1_w2x2_add_b = AddNode()\n",
    "        self.sigmoid = SigmoidNode()\n",
    "    \n",
    "    def forward(self):\n",
    "        w1x1 = self.w1_mul_x1.forward(self.w1, self.x1)\n",
    "        w2x2 = self.w2_mul_x2.forward(self.w2, self.x2)\n",
    "        w1x1_w2x2 = self.w1x1_add_w2x2.forward(w1x1, w2x2)\n",
    "        w1x1_w2x2_b = self.w1x1_w2x2_add_b.forward(w1x1_w2x2, self.b)\n",
    "        self.sigmoid.forward(w1x1_w2x2_b)\n",
    "        \n",
    "    def backward(self):\n",
    "        self.sigmoid.backward()\n",
    "        self.w1x1_w2x2_add_b.backward()\n",
    "        self.w1x1_add_w2x2.backward()\n",
    "        self.w2_mul_x2.backward()\n",
    "        self.w1_mul_x1.backward()\n",
    "    \n",
    "    def update(self):\n",
    "        self.w1.value -= self.alpha * self.w1.gradient\n",
    "        self.w2.value -= self.alpha * self.w2.gradient\n",
    "        self.b.value -= self.alpha * self.b.gradient\n",
    "        \n",
    "\n",
    "class Perceptron2(object):\n",
    "    \n",
    "    def __init__(self,x1, x2,alpha=0.001):\n",
    "        ### Hyper parameters\n",
    "        self.alpha = alpha\n",
    "        ### Initializing weights/bias to a random float between -1 and 1.\n",
    "        self.w1 = Node(np.random.uniform(-1, 1), 0.0)\n",
    "        self.w2 = Node(np.random.uniform(-1, 1), 0.0)\n",
    "        self.b = Node(np.random.uniform(-1, 1), 0.0)\n",
    "        ### Input and Output variables\n",
    "        self.x1 = Node(x1, 0.0)\n",
    "        self.x2 = Node(x2, 0.0)\n",
    "        ### Initialize operators nodes required \n",
    "        ### for processing the inputs within a perceptron\n",
    "        self.initialize_operators()\n",
    "    \n",
    "    def initialize_operators(self):\n",
    "        self.w1_mul_x1 = MultiplyNode()\n",
    "        self.w2_mul_x2 = MultiplyNode()\n",
    "        self.w1x1_add_w2x2 = AddNode()\n",
    "        self.w1x1_w2x2_add_b = AddNode()\n",
    "        self.sigmoid = SigmoidNode()\n",
    "    \n",
    "    def forward(self, x1):\n",
    "        \n",
    "        self.x1.value = x1\n",
    "        w1x1 = self.w1_mul_x1.forward(self.x1, self.w1)\n",
    "        w2x2 = self.w2_mul_x2.forward(self.w2, self.x2)\n",
    "        w1x1_w2x2 = self.w1x1_add_w2x2.forward(w1x1, w2x2)\n",
    "        w1x1_w2x2_b = self.w1x1_w2x2_add_b.forward(w1x1_w2x2, self.b)\n",
    "        self.sigmoid.forward(w1x1_w2x2_b)\n",
    "        \n",
    "    def backward(self):\n",
    "        self.sigmoid.backward()\n",
    "        self.w1x1_w2x2_add_b.backward()\n",
    "        self.w1x1_add_w2x2.backward()\n",
    "        self.w2_mul_x2.backward()\n",
    "        self.w1_mul_x1.backward()\n",
    "    \n",
    "    def update(self):\n",
    "        self.w1.value -= self.alpha * self.w1.gradient\n",
    "        self.w2.value -= self.alpha * self.w2.gradient\n",
    "        self.b.value -= self.alpha * self.b.gradient\n",
    "        return self.w1.value, self.w2.value, self.b.value"
   ]
  },
  {
   "cell_type": "markdown",
   "metadata": {
    "deletable": true,
    "editable": true
   },
   "source": [
    "### Validation"
   ]
  },
  {
   "cell_type": "code",
   "execution_count": 10,
   "metadata": {
    "collapsed": false,
    "deletable": true,
    "editable": true
   },
   "outputs": [
    {
     "data": {
      "text/plain": [
       "0.34796650497534959"
      ]
     },
     "execution_count": 10,
     "metadata": {},
     "output_type": "execute_result"
    }
   ],
   "source": [
    "p = Perceptron(0.11, -1.0, alpha=0.1)\n",
    "p2 = Perceptron2(0.11, 0.0,alpha=0.1)\n",
    "# number of iterations\n",
    "N = 1000\n",
    "# expected output \n",
    "target = 0.3481972639817\n",
    "\n",
    "for i in range(N):\n",
    "    # Step 1. Forward Pass\n",
    "    p.forward()\n",
    "    # Step 2. Calculate Loss. -2 * (y - output) is the gradient of output w.r.t \n",
    "    # square loss function.\n",
    "    p.sigmoid.output.gradient = -2 * (target - p.sigmoid.output.value)\n",
    "    \n",
    "    x = p.sigmoid.output.gradient\n",
    "        \n",
    "    p2.forward(x)\n",
    "    \n",
    "    p2.sigmoid.output.gradient = -2 * (target - p2.sigmoid.output.value)\n",
    "    \n",
    "    p2.backward()\n",
    "    \n",
    "    y1, y2, y3 = p2.update()\n",
    "    \n",
    "    p.sigmoid.output.gradient = y1\n",
    "\n",
    "    p.backward()\n",
    "   \n",
    "    p.update()\n",
    "\n",
    "p2.sigmoid.output.value"
   ]
  },
  {
   "cell_type": "code",
   "execution_count": null,
   "metadata": {
    "collapsed": true,
    "deletable": true,
    "editable": true
   },
   "outputs": [],
   "source": []
  }
 ],
 "metadata": {
  "kernelspec": {
   "display_name": "Python 2",
   "language": "python",
   "name": "python2"
  },
  "language_info": {
   "codemirror_mode": {
    "name": "ipython",
    "version": 2
   },
   "file_extension": ".py",
   "mimetype": "text/x-python",
   "name": "python",
   "nbconvert_exporter": "python",
   "pygments_lexer": "ipython2",
   "version": "2.7.13"
  }
 },
 "nbformat": 4,
 "nbformat_minor": 2
}
